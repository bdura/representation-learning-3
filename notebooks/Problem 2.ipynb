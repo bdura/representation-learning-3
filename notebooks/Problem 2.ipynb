{
 "cells": [
  {
   "cell_type": "code",
   "execution_count": 1,
   "metadata": {
    "ExecuteTime": {
     "end_time": "2019-04-17T14:55:46.029004Z",
     "start_time": "2019-04-17T14:55:46.006173Z"
    }
   },
   "outputs": [],
   "source": [
    "%reload_ext autoreload\n",
    "%autoreload 2"
   ]
  },
  {
   "cell_type": "code",
   "execution_count": 2,
   "metadata": {
    "ExecuteTime": {
     "end_time": "2019-04-17T14:55:46.363731Z",
     "start_time": "2019-04-17T14:55:46.346762Z"
    }
   },
   "outputs": [],
   "source": [
    "import sys\n",
    "import os\n",
    "\n",
    "sys.path.append(os.path.abspath('../'))\n",
    "\n",
    "del sys, os"
   ]
  },
  {
   "cell_type": "code",
   "execution_count": 3,
   "metadata": {
    "ExecuteTime": {
     "end_time": "2019-04-17T14:55:48.434250Z",
     "start_time": "2019-04-17T14:55:46.961341Z"
    }
   },
   "outputs": [],
   "source": [
    "import pandas as pd\n",
    "import numpy as np\n",
    "\n",
    "import torch\n",
    "from torch import nn\n",
    "\n",
    "from torch.optim import Adam, SGD\n",
    "\n",
    "from time import time"
   ]
  },
  {
   "cell_type": "code",
   "execution_count": 4,
   "metadata": {
    "ExecuteTime": {
     "end_time": "2019-04-17T14:55:48.889936Z",
     "start_time": "2019-04-17T14:55:48.437663Z"
    }
   },
   "outputs": [],
   "source": [
    "import matplotlib.pyplot as plt"
   ]
  },
  {
   "cell_type": "code",
   "execution_count": 5,
   "metadata": {
    "ExecuteTime": {
     "end_time": "2019-04-17T14:55:48.929908Z",
     "start_time": "2019-04-17T14:55:48.891763Z"
    }
   },
   "outputs": [],
   "source": [
    "# LaTeX rendering in graphs\n",
    "from distutils.spawn import find_executable\n",
    "\n",
    "if find_executable('latex'):\n",
    "    plt.rc('text', usetex=True)\n",
    "else:\n",
    "    print('LaTeX not found...')\n",
    "\n",
    "plt.rc('font', family='serif')\n",
    "\n",
    "# High resolution graphs\n",
    "%config InlineBackend.figure_format = 'retina'"
   ]
  },
  {
   "cell_type": "code",
   "execution_count": 8,
   "metadata": {
    "ExecuteTime": {
     "end_time": "2019-04-17T14:56:23.013867Z",
     "start_time": "2019-04-17T14:56:22.978824Z"
    }
   },
   "outputs": [],
   "source": [
    "import models.vae as vae\n",
    "from utils import dataset"
   ]
  },
  {
   "cell_type": "markdown",
   "metadata": {},
   "source": [
    "# VAE"
   ]
  },
  {
   "cell_type": "code",
   "execution_count": 11,
   "metadata": {
    "ExecuteTime": {
     "end_time": "2019-04-17T15:43:13.116040Z",
     "start_time": "2019-04-17T15:42:56.620884Z"
    }
   },
   "outputs": [],
   "source": [
    "train = dataset.BinarizedMNIST(data_dir='../data/', split='train')"
   ]
  },
  {
   "cell_type": "code",
   "execution_count": 12,
   "metadata": {
    "ExecuteTime": {
     "end_time": "2019-04-17T15:43:20.140396Z",
     "start_time": "2019-04-17T15:43:19.909380Z"
    }
   },
   "outputs": [],
   "source": [
    "import scripts.run_vae"
   ]
  },
  {
   "cell_type": "code",
   "execution_count": 42,
   "metadata": {
    "ExecuteTime": {
     "end_time": "2019-04-17T15:54:09.496463Z",
     "start_time": "2019-04-17T15:54:09.455964Z"
    }
   },
   "outputs": [],
   "source": [
    "model = vae.VariationalAutoEncoder()"
   ]
  },
  {
   "cell_type": "code",
   "execution_count": 16,
   "metadata": {
    "ExecuteTime": {
     "end_time": "2019-04-17T15:45:05.766499Z",
     "start_time": "2019-04-17T15:45:05.736602Z"
    }
   },
   "outputs": [],
   "source": [
    "from tensorboardX import SummaryWriter"
   ]
  },
  {
   "cell_type": "code",
   "execution_count": 29,
   "metadata": {
    "ExecuteTime": {
     "end_time": "2019-04-17T15:50:22.518738Z",
     "start_time": "2019-04-17T15:50:22.480581Z"
    }
   },
   "outputs": [],
   "source": [
    "test=False"
   ]
  },
  {
   "cell_type": "code",
   "execution_count": 30,
   "metadata": {
    "ExecuteTime": {
     "end_time": "2019-04-17T15:50:23.326457Z",
     "start_time": "2019-04-17T15:50:23.299118Z"
    }
   },
   "outputs": [],
   "source": [
    "import numpy as np\n",
    "\n",
    "import torch\n",
    "from torch.optim import Adam\n",
    "\n",
    "from torch.utils.data import DataLoader, Subset\n",
    "\n",
    "from utils import dataset\n",
    "\n",
    "from tensorboardX import SummaryWriter\n",
    "\n",
    "import models.vae"
   ]
  },
  {
   "cell_type": "code",
   "execution_count": 31,
   "metadata": {
    "ExecuteTime": {
     "end_time": "2019-04-17T15:50:41.805187Z",
     "start_time": "2019-04-17T15:50:23.824099Z"
    }
   },
   "outputs": [],
   "source": [
    "writer = SummaryWriter('logs/vae')\n",
    "\n",
    "train_set = dataset.BinarizedMNIST(data_dir='../data/', split='train')\n",
    "valid_set = dataset.BinarizedMNIST(data_dir='../data/', split='valid')\n",
    "\n",
    "if test:\n",
    "    train_set = Subset(train_set, indices=np.arange(200))\n",
    "    valid_set = Subset(valid_set, indices=np.arange(200))\n",
    "\n",
    "train_loader = DataLoader(train_set, batch_size=128, shuffle=True, num_workers=10)\n",
    "valid_loader = DataLoader(valid_set, batch_size=128, shuffle=True, num_workers=10)\n",
    "\n",
    "device = torch.device('cuda' if torch.cuda.is_available() else 'cpu')\n",
    "\n",
    "model = model.to(device)\n",
    "\n",
    "optimiser = Adam(model.parameters(), lr=3e-4)"
   ]
  },
  {
   "cell_type": "code",
   "execution_count": 43,
   "metadata": {
    "ExecuteTime": {
     "end_time": "2019-04-17T15:54:14.895256Z",
     "start_time": "2019-04-17T15:54:14.858586Z"
    }
   },
   "outputs": [],
   "source": [
    "optimiser = Adam(model.parameters(), lr=.0003)"
   ]
  },
  {
   "cell_type": "code",
   "execution_count": 44,
   "metadata": {
    "ExecuteTime": {
     "end_time": "2019-04-17T15:54:15.789275Z",
     "start_time": "2019-04-17T15:54:15.759877Z"
    }
   },
   "outputs": [
    {
     "data": {
      "text/plain": [
       "0.0003"
      ]
     },
     "execution_count": 44,
     "metadata": {},
     "output_type": "execute_result"
    }
   ],
   "source": [
    "3e-4"
   ]
  },
  {
   "cell_type": "code",
   "execution_count": 80,
   "metadata": {
    "ExecuteTime": {
     "end_time": "2019-04-17T16:33:53.778041Z",
     "start_time": "2019-04-17T16:33:53.719288Z"
    }
   },
   "outputs": [],
   "source": [
    "model = vae.VariationalAutoEncoder()\n",
    "optimiser = Adam(model.parameters(), lr=.0003)"
   ]
  },
  {
   "cell_type": "code",
   "execution_count": 81,
   "metadata": {
    "ExecuteTime": {
     "end_time": "2019-04-17T16:35:04.236961Z",
     "start_time": "2019-04-17T16:33:54.071545Z"
    }
   },
   "outputs": [
    {
     "name": "stdout",
     "output_type": "stream",
     "text": [
      "\n",
      "Total 0.6798055768013\n",
      "\n",
      "Total 0.6769784092903137\n",
      "\n",
      "Total 0.675170361995697\n",
      "\n",
      "Total 0.6723479628562927\n",
      "\n",
      "Total 0.670566976070404\n",
      "\n",
      "Total 0.6685984134674072\n",
      "\n",
      "Total 0.6643668413162231\n",
      "\n",
      "Total 0.6623764634132385\n",
      "\n",
      "Total 0.659406304359436\n",
      "\n",
      "Total 0.6555647850036621\n",
      "\n",
      "Total 0.650780200958252\n",
      "\n",
      "Total 0.6444351077079773\n",
      "\n",
      "Total 0.6380053162574768\n",
      "\n",
      "Total 0.6352904438972473\n",
      "\n",
      "Total 0.6232857704162598\n",
      "\n",
      "Total 0.6169726848602295\n",
      "\n",
      "Total 0.6065680384635925\n",
      "\n",
      "Total 0.6006852984428406\n",
      "\n",
      "Total 0.594034731388092\n",
      "\n",
      "Total 0.5753948092460632\n",
      "\n",
      "Total 0.5721088647842407\n",
      "\n",
      "Total 0.5660889148712158\n",
      "\n",
      "Total 0.566630482673645\n",
      "\n",
      "Total 0.5651260614395142\n",
      "\n",
      "Total 0.5769523978233337\n",
      "\n",
      "Total 0.5857139229774475\n",
      "\n",
      "Total 0.5787813663482666\n",
      "\n",
      "Total 0.5845615267753601\n",
      "\n",
      "Total 0.5583314895629883\n",
      "\n",
      "Total 0.5537042617797852\n",
      "\n",
      "Total 0.564659059047699\n",
      "\n",
      "Total 0.5818522572517395\n",
      "\n",
      "Total 0.6100324988365173\n",
      "\n",
      "Total 0.5974323749542236\n",
      "\n",
      "Total 0.6177350282669067\n",
      "\n",
      "Total 0.5973767042160034\n",
      "\n",
      "Total 0.584434986114502\n",
      "\n",
      "Total 0.5898170471191406\n",
      "\n",
      "Total 0.5670203566551208\n",
      "\n",
      "Total 0.5750910639762878\n",
      "\n",
      "Total 0.5231159925460815\n",
      "\n",
      "Total 0.515605092048645\n",
      "\n",
      "Total 0.48963111639022827\n",
      "\n",
      "Total 0.49310803413391113\n",
      "\n",
      "Total 0.49475255608558655\n",
      "\n",
      "Total 0.48508474230766296\n",
      "\n",
      "Total 0.4927588105201721\n",
      "\n",
      "Total 0.49905598163604736\n",
      "\n",
      "Total 0.5034521818161011\n",
      "\n",
      "Total 0.49722516536712646\n",
      "\n",
      "Total 0.4863796532154083\n",
      "\n",
      "Total 0.49856486916542053\n",
      "\n",
      "Total 0.5193029046058655\n",
      "\n",
      "Total 0.5181912183761597\n",
      "\n",
      "Total 0.5621219277381897\n",
      "\n",
      "Total 0.5974247455596924\n",
      "\n",
      "Total 0.6122824549674988\n",
      "\n",
      "Total 0.6356302499771118\n",
      "\n",
      "Total 0.6442736387252808\n",
      "\n",
      "Total 0.6320823431015015\n",
      "\n",
      "Total 0.6138534545898438\n",
      "\n",
      "Total 0.597076416015625\n",
      "\n",
      "Total 0.5853897333145142\n",
      "\n",
      "Total 0.6302433013916016\n",
      "\n",
      "Total 0.71917325258255\n",
      "\n",
      "Total 0.8993268013000488\n",
      "\n",
      "Total 1.0239923000335693\n",
      "\n",
      "Total 0.9554824233055115\n",
      "\n",
      "Total 0.9094721078872681\n",
      "\n",
      "Total 0.768388569355011\n",
      "\n",
      "Total 0.6207727193832397\n",
      "\n",
      "Total 0.560947835445404\n",
      "\n",
      "Total 0.5386075377464294\n",
      "\n",
      "Total 0.5232012867927551\n",
      "\n",
      "Total 0.5300235152244568\n",
      "\n",
      "Total 0.5537567138671875\n",
      "\n",
      "Total 0.5569363832473755\n",
      "\n",
      "Total 0.5720720291137695\n",
      "\n",
      "Total 0.5735911726951599\n",
      "\n",
      "Total 0.5836631059646606\n",
      "\n",
      "Total 0.6213806867599487\n",
      "\n",
      "Total 0.6756955981254578\n",
      "\n",
      "Total 0.7954516410827637\n",
      "\n",
      "Total 0.8731921315193176\n",
      "\n",
      "Total 1.0261247158050537\n",
      "\n",
      "Total 1.0104931592941284\n",
      "\n",
      "Total 1.0345401763916016\n",
      "\n",
      "Total 0.9372175931930542\n",
      "\n",
      "Total 0.819807767868042\n",
      "\n",
      "Total 0.6755592823028564\n",
      "\n",
      "Total 0.5327656269073486\n",
      "\n",
      "Total 0.49534332752227783\n",
      "\n",
      "Total 0.5462199449539185\n",
      "\n",
      "Total 0.6121735572814941\n",
      "\n",
      "Total 0.7789626121520996\n",
      "\n",
      "Total 0.9070988893508911\n",
      "\n",
      "Total 1.1327980756759644\n",
      "\n",
      "Total 1.359256625175476\n",
      "\n",
      "Total 1.5735031366348267\n",
      "\n",
      "Total 1.6164343357086182\n",
      "\n",
      "Total 1.7474135160446167\n",
      "\n",
      "Total 1.8005456924438477\n",
      "\n",
      "Total 1.7400089502334595\n",
      "\n",
      "Total 1.736141324043274\n",
      "\n",
      "Total 1.6488139629364014\n",
      "\n",
      "Total 1.5053684711456299\n",
      "\n",
      "Total 1.4233064651489258\n",
      "\n",
      "Total 1.3488520383834839\n",
      "\n",
      "Total 1.2997950315475464\n",
      "\n",
      "Total 1.2094197273254395\n",
      "\n",
      "Total 1.233453631401062\n",
      "\n",
      "Total 1.1792902946472168\n",
      "\n",
      "Total 1.2125643491744995\n",
      "\n",
      "Total 1.1668118238449097\n",
      "\n",
      "Total 1.1718823909759521\n",
      "\n",
      "Total 1.1985660791397095\n",
      "\n",
      "Total 1.3417997360229492\n",
      "\n",
      "Total 1.2532578706741333\n",
      "\n",
      "Total 1.195604920387268\n",
      "\n",
      "Total 1.0590542554855347\n",
      "\n",
      "Total 1.2418365478515625\n",
      "\n",
      "Total 1.1017637252807617\n",
      "\n",
      "Total 1.209183692932129\n",
      "\n",
      "Total 1.2133595943450928\n",
      "\n",
      "Total 1.185675859451294\n",
      "\n",
      "Total 1.1847717761993408\n",
      "\n",
      "Total 1.1212579011917114\n",
      "\n",
      "Total 1.0889285802841187\n",
      "\n",
      "Total 1.0050874948501587\n",
      "\n",
      "Total 0.806380569934845\n",
      "\n",
      "Total 0.7831747531890869\n",
      "\n",
      "Total 0.720410943031311\n",
      "\n",
      "Total 0.7743141055107117\n",
      "\n",
      "Total 0.8916699886322021\n",
      "\n",
      "Total 1.0431398153305054\n",
      "\n",
      "Total 1.2468879222869873\n",
      "\n",
      "Total 1.4257478713989258\n",
      "\n",
      "Total 1.6761428117752075\n",
      "\n",
      "Total 1.7301535606384277\n",
      "\n",
      "Total 1.705031394958496\n",
      "\n",
      "Total 1.8742544651031494\n",
      "\n",
      "Total 1.9470211267471313\n",
      "\n",
      "Total 2.0056986808776855\n",
      "\n",
      "Total 2.2045607566833496\n",
      "\n",
      "Total 2.3990437984466553\n",
      "\n",
      "Total 2.726564407348633\n",
      "\n",
      "Total 2.8486404418945312\n",
      "\n",
      "Total 3.5016536712646484\n",
      "\n",
      "Total 3.260958671569824\n",
      "\n",
      "Total 3.59976863861084\n",
      "\n",
      "Total 4.062417984008789\n",
      "\n",
      "Total 3.590754508972168\n",
      "\n",
      "Total 3.631861686706543\n",
      "\n",
      "Total 3.447054386138916\n",
      "\n",
      "Total 3.418503761291504\n",
      "\n",
      "Total 3.196089267730713\n",
      "\n",
      "Total 3.2129886150360107\n",
      "\n",
      "Total 3.4236464500427246\n",
      "\n",
      "Total 2.6988449096679688\n",
      "\n",
      "Total 2.534437417984009\n",
      "\n",
      "Total 2.261061906814575\n",
      "\n",
      "Total 2.12738299369812\n",
      "\n",
      "Total 2.202744245529175\n",
      "\n",
      "Total 1.8780280351638794\n",
      "\n",
      "Total 1.7860958576202393\n",
      "\n",
      "Total 1.7706843614578247\n",
      "\n",
      "Total 1.914785385131836\n",
      "\n",
      "Total 1.9713010787963867\n",
      "\n",
      "Total 2.19232177734375\n",
      "\n",
      "Total 2.1171321868896484\n",
      "\n",
      "Total 2.224503517150879\n",
      "\n",
      "Total 2.2604002952575684\n",
      "\n",
      "Total 2.21048641204834\n"
     ]
    },
    {
     "name": "stderr",
     "output_type": "stream",
     "text": [
      "Traceback (most recent call last):\n",
      "  File \"/Users/basile/miniconda3/envs/pytorch/lib/python3.7/multiprocessing/queues.py\", line 242, in _feed\n",
      "    send_bytes(obj)\n",
      "  File \"/Users/basile/miniconda3/envs/pytorch/lib/python3.7/multiprocessing/connection.py\", line 200, in send_bytes\n",
      "    self._send_bytes(m[offset:offset + size])\n",
      "  File \"/Users/basile/miniconda3/envs/pytorch/lib/python3.7/multiprocessing/connection.py\", line 404, in _send_bytes\n",
      "    self._send(header + buf)\n",
      "  File \"/Users/basile/miniconda3/envs/pytorch/lib/python3.7/multiprocessing/connection.py\", line 368, in _send\n",
      "    n = write(self._handle, buf)\n",
      "BrokenPipeError: [Errno 32] Broken pipe\n",
      "Traceback (most recent call last):\n",
      "Traceback (most recent call last):\n",
      "  File \"/Users/basile/miniconda3/envs/pytorch/lib/python3.7/multiprocessing/queues.py\", line 242, in _feed\n",
      "    send_bytes(obj)\n",
      "  File \"/Users/basile/miniconda3/envs/pytorch/lib/python3.7/multiprocessing/connection.py\", line 200, in send_bytes\n",
      "    self._send_bytes(m[offset:offset + size])\n",
      "  File \"/Users/basile/miniconda3/envs/pytorch/lib/python3.7/multiprocessing/connection.py\", line 404, in _send_bytes\n",
      "    self._send(header + buf)\n",
      "  File \"/Users/basile/miniconda3/envs/pytorch/lib/python3.7/multiprocessing/connection.py\", line 368, in _send\n",
      "    n = write(self._handle, buf)\n",
      "BrokenPipeError: [Errno 32] Broken pipe\n",
      "  File \"/Users/basile/miniconda3/envs/pytorch/lib/python3.7/multiprocessing/queues.py\", line 242, in _feed\n",
      "    send_bytes(obj)\n",
      "  File \"/Users/basile/miniconda3/envs/pytorch/lib/python3.7/multiprocessing/connection.py\", line 200, in send_bytes\n",
      "    self._send_bytes(m[offset:offset + size])\n",
      "  File \"/Users/basile/miniconda3/envs/pytorch/lib/python3.7/multiprocessing/connection.py\", line 404, in _send_bytes\n",
      "    self._send(header + buf)\n",
      "  File \"/Users/basile/miniconda3/envs/pytorch/lib/python3.7/multiprocessing/connection.py\", line 368, in _send\n",
      "    n = write(self._handle, buf)\n",
      "BrokenPipeError: [Errno 32] Broken pipe\n",
      "Traceback (most recent call last):\n",
      "  File \"/Users/basile/miniconda3/envs/pytorch/lib/python3.7/multiprocessing/queues.py\", line 242, in _feed\n",
      "    send_bytes(obj)\n",
      "  File \"/Users/basile/miniconda3/envs/pytorch/lib/python3.7/multiprocessing/connection.py\", line 200, in send_bytes\n",
      "    self._send_bytes(m[offset:offset + size])\n",
      "  File \"/Users/basile/miniconda3/envs/pytorch/lib/python3.7/multiprocessing/connection.py\", line 404, in _send_bytes\n",
      "    self._send(header + buf)\n",
      "  File \"/Users/basile/miniconda3/envs/pytorch/lib/python3.7/multiprocessing/connection.py\", line 368, in _send\n",
      "    n = write(self._handle, buf)\n",
      "BrokenPipeError: [Errno 32] Broken pipe\n",
      "Traceback (most recent call last):\n",
      "  File \"/Users/basile/miniconda3/envs/pytorch/lib/python3.7/multiprocessing/queues.py\", line 242, in _feed\n",
      "    send_bytes(obj)\n",
      "  File \"/Users/basile/miniconda3/envs/pytorch/lib/python3.7/multiprocessing/connection.py\", line 200, in send_bytes\n",
      "    self._send_bytes(m[offset:offset + size])\n",
      "  File \"/Users/basile/miniconda3/envs/pytorch/lib/python3.7/multiprocessing/connection.py\", line 404, in _send_bytes\n",
      "    self._send(header + buf)\n",
      "  File \"/Users/basile/miniconda3/envs/pytorch/lib/python3.7/multiprocessing/connection.py\", line 368, in _send\n",
      "    n = write(self._handle, buf)\n",
      "BrokenPipeError: [Errno 32] Broken pipe\n",
      "Traceback (most recent call last):\n",
      "Traceback (most recent call last):\n",
      "  File \"/Users/basile/miniconda3/envs/pytorch/lib/python3.7/multiprocessing/queues.py\", line 242, in _feed\n",
      "    send_bytes(obj)\n",
      "  File \"/Users/basile/miniconda3/envs/pytorch/lib/python3.7/multiprocessing/connection.py\", line 200, in send_bytes\n",
      "    self._send_bytes(m[offset:offset + size])\n",
      "  File \"/Users/basile/miniconda3/envs/pytorch/lib/python3.7/multiprocessing/connection.py\", line 404, in _send_bytes\n",
      "    self._send(header + buf)\n",
      "  File \"/Users/basile/miniconda3/envs/pytorch/lib/python3.7/multiprocessing/connection.py\", line 368, in _send\n",
      "    n = write(self._handle, buf)\n",
      "BrokenPipeError: [Errno 32] Broken pipe\n",
      "  File \"/Users/basile/miniconda3/envs/pytorch/lib/python3.7/multiprocessing/queues.py\", line 242, in _feed\n",
      "    send_bytes(obj)\n",
      "  File \"/Users/basile/miniconda3/envs/pytorch/lib/python3.7/multiprocessing/connection.py\", line 200, in send_bytes\n",
      "    self._send_bytes(m[offset:offset + size])\n",
      "  File \"/Users/basile/miniconda3/envs/pytorch/lib/python3.7/multiprocessing/connection.py\", line 404, in _send_bytes\n",
      "    self._send(header + buf)\n",
      "  File \"/Users/basile/miniconda3/envs/pytorch/lib/python3.7/multiprocessing/connection.py\", line 368, in _send\n",
      "    n = write(self._handle, buf)\n",
      "BrokenPipeError: [Errno 32] Broken pipe\n",
      "Traceback (most recent call last):\n",
      "Traceback (most recent call last):\n",
      "  File \"/Users/basile/miniconda3/envs/pytorch/lib/python3.7/multiprocessing/queues.py\", line 242, in _feed\n",
      "    send_bytes(obj)\n",
      "  File \"/Users/basile/miniconda3/envs/pytorch/lib/python3.7/multiprocessing/connection.py\", line 200, in send_bytes\n",
      "    self._send_bytes(m[offset:offset + size])\n",
      "  File \"/Users/basile/miniconda3/envs/pytorch/lib/python3.7/multiprocessing/connection.py\", line 404, in _send_bytes\n",
      "    self._send(header + buf)\n",
      "  File \"/Users/basile/miniconda3/envs/pytorch/lib/python3.7/multiprocessing/connection.py\", line 368, in _send\n",
      "    n = write(self._handle, buf)\n",
      "  File \"/Users/basile/miniconda3/envs/pytorch/lib/python3.7/multiprocessing/queues.py\", line 242, in _feed\n",
      "    send_bytes(obj)\n",
      "  File \"/Users/basile/miniconda3/envs/pytorch/lib/python3.7/multiprocessing/connection.py\", line 200, in send_bytes\n",
      "    self._send_bytes(m[offset:offset + size])\n",
      "  File \"/Users/basile/miniconda3/envs/pytorch/lib/python3.7/multiprocessing/connection.py\", line 404, in _send_bytes\n",
      "    self._send(header + buf)\n",
      "  File \"/Users/basile/miniconda3/envs/pytorch/lib/python3.7/multiprocessing/connection.py\", line 368, in _send\n",
      "    n = write(self._handle, buf)\n",
      "BrokenPipeError: [Errno 32] Broken pipe\n",
      "BrokenPipeError: [Errno 32] Broken pipe\n",
      "Traceback (most recent call last):\n",
      "  File \"/Users/basile/miniconda3/envs/pytorch/lib/python3.7/multiprocessing/queues.py\", line 242, in _feed\n",
      "    send_bytes(obj)\n",
      "  File \"/Users/basile/miniconda3/envs/pytorch/lib/python3.7/multiprocessing/connection.py\", line 200, in send_bytes\n",
      "    self._send_bytes(m[offset:offset + size])\n",
      "  File \"/Users/basile/miniconda3/envs/pytorch/lib/python3.7/multiprocessing/connection.py\", line 404, in _send_bytes\n",
      "    self._send(header + buf)\n",
      "  File \"/Users/basile/miniconda3/envs/pytorch/lib/python3.7/multiprocessing/connection.py\", line 368, in _send\n",
      "    n = write(self._handle, buf)\n",
      "BrokenPipeError: [Errno 32] Broken pipe\n"
     ]
    },
    {
     "ename": "KeyboardInterrupt",
     "evalue": "",
     "output_type": "error",
     "traceback": [
      "\u001b[0;31m---------------------------------------------------------------------------\u001b[0m",
      "\u001b[0;31mKeyboardInterrupt\u001b[0m                         Traceback (most recent call last)",
      "\u001b[0;32m<ipython-input-81-79b5e10b20af>\u001b[0m in \u001b[0;36m<module>\u001b[0;34m\u001b[0m\n\u001b[1;32m      1\u001b[0m \u001b[0;32mfor\u001b[0m \u001b[0m_\u001b[0m \u001b[0;32min\u001b[0m \u001b[0mrange\u001b[0m\u001b[0;34m(\u001b[0m\u001b[0;36m10\u001b[0m\u001b[0;34m)\u001b[0m\u001b[0;34m:\u001b[0m\u001b[0;34m\u001b[0m\u001b[0;34m\u001b[0m\u001b[0m\n\u001b[0;32m----> 2\u001b[0;31m     \u001b[0mscripts\u001b[0m\u001b[0;34m.\u001b[0m\u001b[0mrun_vae\u001b[0m\u001b[0;34m.\u001b[0m\u001b[0mtrain\u001b[0m\u001b[0;34m(\u001b[0m\u001b[0mmodel\u001b[0m\u001b[0;34m,\u001b[0m \u001b[0mdevice\u001b[0m\u001b[0;34m,\u001b[0m \u001b[0;36m1\u001b[0m\u001b[0;34m,\u001b[0m \u001b[0mtrain_loader\u001b[0m\u001b[0;34m,\u001b[0m \u001b[0moptimiser\u001b[0m\u001b[0;34m,\u001b[0m \u001b[0mwriter\u001b[0m\u001b[0;34m)\u001b[0m\u001b[0;34m\u001b[0m\u001b[0;34m\u001b[0m\u001b[0m\n\u001b[0m",
      "\u001b[0;32m~/Documents/Cours/Representation Learning/Assignments/Assignment 3/practical/code/scripts/run_vae.py\u001b[0m in \u001b[0;36mtrain\u001b[0;34m(model, device, epoch, train_loader, optimiser, writer)\u001b[0m\n\u001b[1;32m     38\u001b[0m \u001b[0;34m\u001b[0m\u001b[0m\n\u001b[1;32m     39\u001b[0m         \u001b[0mloss\u001b[0m \u001b[0;34m=\u001b[0m \u001b[0mmodel\u001b[0m\u001b[0;34m.\u001b[0m\u001b[0mloss\u001b[0m\u001b[0;34m(\u001b[0m\u001b[0mdata\u001b[0m\u001b[0;34m,\u001b[0m \u001b[0mout\u001b[0m\u001b[0;34m,\u001b[0m \u001b[0mmean\u001b[0m\u001b[0;34m,\u001b[0m \u001b[0mlogv\u001b[0m\u001b[0;34m)\u001b[0m\u001b[0;34m\u001b[0m\u001b[0;34m\u001b[0m\u001b[0m\n\u001b[0;32m---> 40\u001b[0;31m         \u001b[0mloss\u001b[0m\u001b[0;34m.\u001b[0m\u001b[0mbackward\u001b[0m\u001b[0;34m(\u001b[0m\u001b[0;34m)\u001b[0m\u001b[0;34m\u001b[0m\u001b[0;34m\u001b[0m\u001b[0m\n\u001b[0m\u001b[1;32m     41\u001b[0m         \u001b[0moptimiser\u001b[0m\u001b[0;34m.\u001b[0m\u001b[0mstep\u001b[0m\u001b[0;34m(\u001b[0m\u001b[0;34m)\u001b[0m\u001b[0;34m\u001b[0m\u001b[0;34m\u001b[0m\u001b[0m\n\u001b[1;32m     42\u001b[0m \u001b[0;34m\u001b[0m\u001b[0m\n",
      "\u001b[0;32m~/miniconda3/envs/pytorch/lib/python3.7/site-packages/torch/tensor.py\u001b[0m in \u001b[0;36mbackward\u001b[0;34m(self, gradient, retain_graph, create_graph)\u001b[0m\n\u001b[1;32m    100\u001b[0m                 \u001b[0mproducts\u001b[0m\u001b[0;34m.\u001b[0m \u001b[0mDefaults\u001b[0m \u001b[0mto\u001b[0m\u001b[0;31m \u001b[0m\u001b[0;31m`\u001b[0m\u001b[0;31m`\u001b[0m\u001b[0;32mFalse\u001b[0m\u001b[0;31m`\u001b[0m\u001b[0;31m`\u001b[0m\u001b[0;34m.\u001b[0m\u001b[0;34m\u001b[0m\u001b[0;34m\u001b[0m\u001b[0m\n\u001b[1;32m    101\u001b[0m         \"\"\"\n\u001b[0;32m--> 102\u001b[0;31m         \u001b[0mtorch\u001b[0m\u001b[0;34m.\u001b[0m\u001b[0mautograd\u001b[0m\u001b[0;34m.\u001b[0m\u001b[0mbackward\u001b[0m\u001b[0;34m(\u001b[0m\u001b[0mself\u001b[0m\u001b[0;34m,\u001b[0m \u001b[0mgradient\u001b[0m\u001b[0;34m,\u001b[0m \u001b[0mretain_graph\u001b[0m\u001b[0;34m,\u001b[0m \u001b[0mcreate_graph\u001b[0m\u001b[0;34m)\u001b[0m\u001b[0;34m\u001b[0m\u001b[0;34m\u001b[0m\u001b[0m\n\u001b[0m\u001b[1;32m    103\u001b[0m \u001b[0;34m\u001b[0m\u001b[0m\n\u001b[1;32m    104\u001b[0m     \u001b[0;32mdef\u001b[0m \u001b[0mregister_hook\u001b[0m\u001b[0;34m(\u001b[0m\u001b[0mself\u001b[0m\u001b[0;34m,\u001b[0m \u001b[0mhook\u001b[0m\u001b[0;34m)\u001b[0m\u001b[0;34m:\u001b[0m\u001b[0;34m\u001b[0m\u001b[0;34m\u001b[0m\u001b[0m\n",
      "\u001b[0;32m~/miniconda3/envs/pytorch/lib/python3.7/site-packages/torch/autograd/__init__.py\u001b[0m in \u001b[0;36mbackward\u001b[0;34m(tensors, grad_tensors, retain_graph, create_graph, grad_variables)\u001b[0m\n\u001b[1;32m     88\u001b[0m     Variable._execution_engine.run_backward(\n\u001b[1;32m     89\u001b[0m         \u001b[0mtensors\u001b[0m\u001b[0;34m,\u001b[0m \u001b[0mgrad_tensors\u001b[0m\u001b[0;34m,\u001b[0m \u001b[0mretain_graph\u001b[0m\u001b[0;34m,\u001b[0m \u001b[0mcreate_graph\u001b[0m\u001b[0;34m,\u001b[0m\u001b[0;34m\u001b[0m\u001b[0;34m\u001b[0m\u001b[0m\n\u001b[0;32m---> 90\u001b[0;31m         allow_unreachable=True)  # allow_unreachable flag\n\u001b[0m\u001b[1;32m     91\u001b[0m \u001b[0;34m\u001b[0m\u001b[0m\n\u001b[1;32m     92\u001b[0m \u001b[0;34m\u001b[0m\u001b[0m\n",
      "\u001b[0;31mKeyboardInterrupt\u001b[0m: "
     ]
    }
   ],
   "source": [
    "for _ in range(10):\n",
    "    scripts.run_vae.train(model, device, 1, train_loader, optimiser, writer)"
   ]
  },
  {
   "cell_type": "code",
   "execution_count": null,
   "metadata": {},
   "outputs": [],
   "source": []
  },
  {
   "cell_type": "code",
   "execution_count": null,
   "metadata": {},
   "outputs": [],
   "source": []
  }
 ],
 "metadata": {
  "kernelspec": {
   "display_name": "Python 3",
   "language": "python",
   "name": "python3"
  },
  "language_info": {
   "codemirror_mode": {
    "name": "ipython",
    "version": 3
   },
   "file_extension": ".py",
   "mimetype": "text/x-python",
   "name": "python",
   "nbconvert_exporter": "python",
   "pygments_lexer": "ipython3",
   "version": "3.7.1"
  },
  "toc": {
   "base_numbering": 1,
   "nav_menu": {},
   "number_sections": true,
   "sideBar": true,
   "skip_h1_title": false,
   "title_cell": "Table of Contents",
   "title_sidebar": "Contents",
   "toc_cell": false,
   "toc_position": {},
   "toc_section_display": true,
   "toc_window_display": false
  }
 },
 "nbformat": 4,
 "nbformat_minor": 2
}
