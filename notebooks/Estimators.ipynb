{
 "cells": [
  {
   "cell_type": "code",
   "execution_count": 1,
   "metadata": {
    "ExecuteTime": {
     "end_time": "2019-04-15T17:05:05.654003Z",
     "start_time": "2019-04-15T17:05:05.631506Z"
    }
   },
   "outputs": [],
   "source": [
    "%reload_ext autoreload\n",
    "%autoreload 2"
   ]
  },
  {
   "cell_type": "code",
   "execution_count": 2,
   "metadata": {
    "ExecuteTime": {
     "end_time": "2019-04-15T17:05:05.862892Z",
     "start_time": "2019-04-15T17:05:05.840844Z"
    }
   },
   "outputs": [],
   "source": [
    "import sys\n",
    "import os\n",
    "\n",
    "sys.path.append(os.path.abspath('../'))\n",
    "\n",
    "del sys, os"
   ]
  },
  {
   "cell_type": "code",
   "execution_count": 3,
   "metadata": {
    "ExecuteTime": {
     "end_time": "2019-04-15T17:05:07.433825Z",
     "start_time": "2019-04-15T17:05:06.015884Z"
    }
   },
   "outputs": [],
   "source": [
    "import pandas as pd\n",
    "import numpy as np\n",
    "\n",
    "import torch\n",
    "from torch import nn\n",
    "\n",
    "from torch.optim import Adam, SGD\n",
    "\n",
    "from time import time"
   ]
  },
  {
   "cell_type": "code",
   "execution_count": 4,
   "metadata": {
    "ExecuteTime": {
     "end_time": "2019-04-15T17:05:07.706206Z",
     "start_time": "2019-04-15T17:05:07.436402Z"
    }
   },
   "outputs": [],
   "source": [
    "import matplotlib.pyplot as plt"
   ]
  },
  {
   "cell_type": "code",
   "execution_count": 5,
   "metadata": {
    "ExecuteTime": {
     "end_time": "2019-04-15T17:05:10.717917Z",
     "start_time": "2019-04-15T17:05:10.675297Z"
    }
   },
   "outputs": [],
   "source": [
    "# LaTeX rendering in graphs\n",
    "try:\n",
    "    plt.rc('text', usetex=True)\n",
    "except:\n",
    "    pass\n",
    "\n",
    "plt.rc('font', family='serif')\n",
    "\n",
    "# High resolution graphs\n",
    "%config InlineBackend.figure_format = 'retina'"
   ]
  },
  {
   "cell_type": "code",
   "execution_count": 6,
   "metadata": {
    "ExecuteTime": {
     "end_time": "2019-04-15T17:05:11.122645Z",
     "start_time": "2019-04-15T17:05:11.084672Z"
    }
   },
   "outputs": [],
   "source": [
    "from models import estimators"
   ]
  },
  {
   "cell_type": "code",
   "execution_count": 7,
   "metadata": {
    "ExecuteTime": {
     "end_time": "2019-04-15T17:05:11.590541Z",
     "start_time": "2019-04-15T17:05:11.556802Z"
    }
   },
   "outputs": [],
   "source": [
    "from base import samplers"
   ]
  },
  {
   "cell_type": "markdown",
   "metadata": {},
   "source": [
    "# Samplers"
   ]
  },
  {
   "cell_type": "code",
   "execution_count": 8,
   "metadata": {
    "ExecuteTime": {
     "end_time": "2019-04-15T17:05:12.353022Z",
     "start_time": "2019-04-15T17:05:12.315681Z"
    }
   },
   "outputs": [],
   "source": [
    "uniform = samplers.distribution2"
   ]
  },
  {
   "cell_type": "code",
   "execution_count": 9,
   "metadata": {
    "ExecuteTime": {
     "end_time": "2019-04-15T17:05:12.896552Z",
     "start_time": "2019-04-15T17:05:12.869616Z"
    }
   },
   "outputs": [],
   "source": [
    "gaussian = samplers.distribution3"
   ]
  },
  {
   "cell_type": "code",
   "execution_count": 10,
   "metadata": {
    "ExecuteTime": {
     "end_time": "2019-04-15T17:05:13.455231Z",
     "start_time": "2019-04-15T17:05:13.347721Z"
    }
   },
   "outputs": [],
   "source": [
    "f = torch.tensor(next(uniform()), dtype=torch.float)"
   ]
  },
  {
   "cell_type": "code",
   "execution_count": 11,
   "metadata": {
    "ExecuteTime": {
     "end_time": "2019-04-15T17:05:13.777463Z",
     "start_time": "2019-04-15T17:05:13.743718Z"
    }
   },
   "outputs": [],
   "source": [
    "g = torch.tensor(np.concatenate((next(gaussian()), next(gaussian())), axis=1))"
   ]
  },
  {
   "cell_type": "code",
   "execution_count": 12,
   "metadata": {
    "ExecuteTime": {
     "end_time": "2019-04-15T17:05:14.342922Z",
     "start_time": "2019-04-15T17:05:14.309327Z"
    }
   },
   "outputs": [
    {
     "data": {
      "text/plain": [
       "torch.Size([512, 2])"
      ]
     },
     "execution_count": 12,
     "metadata": {},
     "output_type": "execute_result"
    }
   ],
   "source": [
    "f.size()"
   ]
  },
  {
   "cell_type": "code",
   "execution_count": 13,
   "metadata": {
    "ExecuteTime": {
     "end_time": "2019-04-15T17:05:14.818240Z",
     "start_time": "2019-04-15T17:05:14.782977Z"
    }
   },
   "outputs": [],
   "source": [
    "def generate(n=20, batch_size=512):\n",
    "    \n",
    "    for _ in range(n):\n",
    "        \n",
    "        f = torch.tensor(next(uniform(batch_size))[:, [0]], dtype=torch.float)\n",
    "        g = torch.tensor(next(gaussian(batch_size)), dtype=torch.float)\n",
    "        \n",
    "        yield f, g"
   ]
  },
  {
   "cell_type": "markdown",
   "metadata": {},
   "source": [
    "# Estimators"
   ]
  },
  {
   "cell_type": "markdown",
   "metadata": {},
   "source": [
    "## Jensen-Shannon"
   ]
  },
  {
   "cell_type": "code",
   "execution_count": 42,
   "metadata": {
    "ExecuteTime": {
     "end_time": "2019-04-15T17:14:46.270791Z",
     "start_time": "2019-04-15T17:14:46.225264Z"
    }
   },
   "outputs": [],
   "source": [
    "js = estimators.JensenShannon(input_dimension=1)"
   ]
  },
  {
   "cell_type": "code",
   "execution_count": 43,
   "metadata": {
    "ExecuteTime": {
     "end_time": "2019-04-15T17:14:46.431242Z",
     "start_time": "2019-04-15T17:14:46.400135Z"
    }
   },
   "outputs": [],
   "source": [
    "optimiser = Adam(js.parameters(), lr=.001)"
   ]
  },
  {
   "cell_type": "code",
   "execution_count": 44,
   "metadata": {
    "ExecuteTime": {
     "end_time": "2019-04-15T17:14:51.999797Z",
     "start_time": "2019-04-15T17:14:46.567963Z"
    }
   },
   "outputs": [],
   "source": [
    "losses = []\n",
    "distances = []\n",
    "\n",
    "for f, g in generate(2000):\n",
    "    \n",
    "    js.zero_grad()\n",
    "    \n",
    "    loss = js.loss(f, g)\n",
    "    loss.backward()\n",
    "    \n",
    "    optimiser.step()\n",
    "    \n",
    "    losses.append(loss.item())\n",
    "    distances.append(js.distance(f, g).item())\n",
    "    \n",
    "losses = np.array(losses)\n",
    "distances = np.array(distances)"
   ]
  },
  {
   "cell_type": "code",
   "execution_count": 45,
   "metadata": {
    "ExecuteTime": {
     "end_time": "2019-04-15T17:14:52.269622Z",
     "start_time": "2019-04-15T17:14:52.002373Z"
    }
   },
   "outputs": [
    {
     "data": {
      "image/png": "[encoded data removed]",
      "text/plain": [
       "<Figure size 432x288 with 1 Axes>"
      ]
     },
     "metadata": {
      "image/png": {
       "height": 250,
       "width": 370
      },
      "needs_background": "light"
     },
     "output_type": "display_data"
    }
   ],
   "source": [
    "plt.figure()\n",
    "plt.plot(losses, label='loss')\n",
    "plt.plot(distances, label='distance')\n",
    "plt.legend()\n",
    "plt.show()"
   ]
  },
  {
   "cell_type": "markdown",
   "metadata": {},
   "source": [
    "## Wasserstein"
   ]
  },
  {
   "cell_type": "code",
   "execution_count": 50,
   "metadata": {
    "ExecuteTime": {
     "end_time": "2019-04-15T17:15:49.513178Z",
     "start_time": "2019-04-15T17:15:49.478954Z"
    }
   },
   "outputs": [],
   "source": [
    "wasserstein = estimators.Wasserstein(input_dimension=1, kappa=20)"
   ]
  },
  {
   "cell_type": "code",
   "execution_count": 51,
   "metadata": {
    "ExecuteTime": {
     "end_time": "2019-04-15T17:15:49.984858Z",
     "start_time": "2019-04-15T17:15:49.957564Z"
    }
   },
   "outputs": [],
   "source": [
    "optimiser = Adam(wasserstein.parameters(), lr=.0001)"
   ]
  },
  {
   "cell_type": "code",
   "execution_count": 52,
   "metadata": {
    "ExecuteTime": {
     "end_time": "2019-04-15T17:16:21.690023Z",
     "start_time": "2019-04-15T17:15:53.779692Z"
    }
   },
   "outputs": [],
   "source": [
    "losses = []\n",
    "distances = []\n",
    "\n",
    "for f, g in generate(5000):\n",
    "    \n",
    "    wasserstein.zero_grad()\n",
    "    \n",
    "    loss = wasserstein.loss(f, f)\n",
    "    loss.backward()\n",
    "    \n",
    "    optimiser.step()\n",
    "    \n",
    "    losses.append(loss.item())\n",
    "    distances.append(wasserstein.distance(f, f).item())\n",
    "    \n",
    "losses = np.array(losses)\n",
    "distances = np.array(distances)"
   ]
  },
  {
   "cell_type": "code",
   "execution_count": 53,
   "metadata": {
    "ExecuteTime": {
     "end_time": "2019-04-15T17:16:21.890937Z",
     "start_time": "2019-04-15T17:16:21.691896Z"
    }
   },
   "outputs": [
    {
     "data": {
      "image/png": "[encoded data removed]",
      "text/plain": [
       "<Figure size 432x288 with 1 Axes>"
      ]
     },
     "metadata": {
      "image/png": {
       "height": 250,
       "width": 377
      },
      "needs_background": "light"
     },
     "output_type": "display_data"
    }
   ],
   "source": [
    "plt.figure()\n",
    "plt.plot(losses)\n",
    "plt.plot(distances)\n",
    "plt.show()"
   ]
  },
  {
   "cell_type": "code",
   "execution_count": null,
   "metadata": {},
   "outputs": [],
   "source": []
  }
 ],
 "metadata": {
  "kernelspec": {
   "display_name": "Python 3",
   "language": "python",
   "name": "python3"
  },
  "language_info": {
   "codemirror_mode": {
    "name": "ipython",
    "version": 3
   },
   "file_extension": ".py",
   "mimetype": "text/x-python",
   "name": "python",
   "nbconvert_exporter": "python",
   "pygments_lexer": "ipython3",
   "version": "3.7.1"
  },
  "toc": {
   "base_numbering": 1,
   "nav_menu": {},
   "number_sections": true,
   "sideBar": true,
   "skip_h1_title": false,
   "title_cell": "Table of Contents",
   "title_sidebar": "Contents",
   "toc_cell": false,
   "toc_position": {},
   "toc_section_display": true,
   "toc_window_display": false
  }
 },
 "nbformat": 4,
 "nbformat_minor": 2
}
