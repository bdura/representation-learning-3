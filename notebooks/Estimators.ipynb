{
 "cells": [
  {
   "cell_type": "code",
   "execution_count": 1,
   "metadata": {
    "ExecuteTime": {
     "end_time": "2019-04-17T01:39:41.966428Z",
     "start_time": "2019-04-17T01:39:41.942462Z"
    },
    "collapsed": true
   },
   "outputs": [],
   "source": [
    "%reload_ext autoreload\n",
    "%autoreload 2"
   ]
  },
  {
   "cell_type": "code",
   "execution_count": 2,
   "metadata": {
    "ExecuteTime": {
     "end_time": "2019-04-17T01:39:42.117033Z",
     "start_time": "2019-04-17T01:39:42.099359Z"
    },
    "collapsed": true
   },
   "outputs": [],
   "source": [
    "import sys\n",
    "import os\n",
    "\n",
    "sys.path.append(os.path.abspath('../'))\n",
    "\n",
    "del sys, os"
   ]
  },
  {
   "cell_type": "code",
   "execution_count": 3,
   "metadata": {
    "ExecuteTime": {
     "end_time": "2019-04-17T01:39:43.972826Z",
     "start_time": "2019-04-17T01:39:42.248427Z"
    },
    "collapsed": true
   },
   "outputs": [],
   "source": [
    "import pandas as pd\n",
    "import numpy as np\n",
    "\n",
    "import torch\n",
    "from torch import nn\n",
    "\n",
    "from torch.optim import Adam, SGD\n",
    "\n",
    "from time import time"
   ]
  },
  {
   "cell_type": "code",
   "execution_count": 4,
   "metadata": {
    "ExecuteTime": {
     "end_time": "2019-04-17T01:39:44.224758Z",
     "start_time": "2019-04-17T01:39:43.975546Z"
    },
    "collapsed": true
   },
   "outputs": [],
   "source": [
    "import matplotlib.pyplot as plt"
   ]
  },
  {
   "cell_type": "code",
   "execution_count": 5,
   "metadata": {
    "ExecuteTime": {
     "end_time": "2019-04-17T01:39:44.268756Z",
     "start_time": "2019-04-17T01:39:44.226346Z"
    },
    "collapsed": true
   },
   "outputs": [],
   "source": [
    "# LaTeX rendering in graphs\n",
    "from distutils.spawn import find_executable\n",
    "\n",
    "if find_executable('latex'):\n",
    "    plt.rc('text', usetex=True)\n",
    "else:\n",
    "    print('LaTeX not found...')\n",
    "\n",
    "plt.rc('font', family='serif')\n",
    "\n",
    "# High resolution graphs\n",
    "%config InlineBackend.figure_format = 'retina'"
   ]
  },
  {
   "cell_type": "code",
   "execution_count": 6,
   "metadata": {
    "ExecuteTime": {
     "end_time": "2019-04-17T01:39:44.299269Z",
     "start_time": "2019-04-17T01:39:44.271242Z"
    },
    "collapsed": true
   },
   "outputs": [],
   "source": [
    "from models import estimators"
   ]
  },
  {
   "cell_type": "code",
   "execution_count": 7,
   "metadata": {
    "ExecuteTime": {
     "end_time": "2019-04-17T01:39:44.329264Z",
     "start_time": "2019-04-17T01:39:44.301537Z"
    },
    "collapsed": true
   },
   "outputs": [],
   "source": [
    "from base import samplers"
   ]
  },
  {
   "cell_type": "markdown",
   "metadata": {
    "heading_collapsed": true
   },
   "source": [
    "# Samplers"
   ]
  },
  {
   "cell_type": "code",
   "execution_count": 8,
   "metadata": {
    "ExecuteTime": {
     "end_time": "2019-04-15T20:37:09.187877Z",
     "start_time": "2019-04-15T20:37:09.159815Z"
    },
    "collapsed": true,
    "hidden": true
   },
   "outputs": [],
   "source": [
    "uniform = samplers.distribution2"
   ]
  },
  {
   "cell_type": "code",
   "execution_count": 9,
   "metadata": {
    "ExecuteTime": {
     "end_time": "2019-04-15T20:37:09.333023Z",
     "start_time": "2019-04-15T20:37:09.305520Z"
    },
    "collapsed": true,
    "hidden": true
   },
   "outputs": [],
   "source": [
    "gaussian = samplers.distribution3"
   ]
  },
  {
   "cell_type": "code",
   "execution_count": 10,
   "metadata": {
    "ExecuteTime": {
     "end_time": "2019-04-15T20:37:09.495615Z",
     "start_time": "2019-04-15T20:37:09.466475Z"
    },
    "collapsed": true,
    "hidden": true
   },
   "outputs": [],
   "source": [
    "f = torch.tensor(next(uniform()), dtype=torch.float)"
   ]
  },
  {
   "cell_type": "code",
   "execution_count": 11,
   "metadata": {
    "ExecuteTime": {
     "end_time": "2019-04-15T20:37:09.657216Z",
     "start_time": "2019-04-15T20:37:09.627050Z"
    },
    "collapsed": true,
    "hidden": true
   },
   "outputs": [],
   "source": [
    "g = torch.tensor(np.concatenate((next(gaussian()), next(gaussian())), axis=1))"
   ]
  },
  {
   "cell_type": "code",
   "execution_count": 12,
   "metadata": {
    "ExecuteTime": {
     "end_time": "2019-04-15T20:37:09.813885Z",
     "start_time": "2019-04-15T20:37:09.784344Z"
    },
    "hidden": true
   },
   "outputs": [
    {
     "data": {
      "text/plain": [
       "torch.Size([512, 2])"
      ]
     },
     "execution_count": 12,
     "metadata": {},
     "output_type": "execute_result"
    }
   ],
   "source": [
    "f.size()"
   ]
  },
  {
   "cell_type": "code",
   "execution_count": 13,
   "metadata": {
    "ExecuteTime": {
     "end_time": "2019-04-15T20:37:09.979523Z",
     "start_time": "2019-04-15T20:37:09.944345Z"
    },
    "collapsed": true,
    "hidden": true
   },
   "outputs": [],
   "source": [
    "def generate(n=20, batch_size=512):\n",
    "    \n",
    "    for _ in range(n):\n",
    "        \n",
    "        f = torch.tensor(next(uniform(batch_size))[:, [0]], dtype=torch.float)\n",
    "        g = torch.tensor(next(gaussian(batch_size)), dtype=torch.float)\n",
    "        \n",
    "        yield f, g"
   ]
  },
  {
   "cell_type": "markdown",
   "metadata": {},
   "source": [
    "# Estimators"
   ]
  },
  {
   "cell_type": "markdown",
   "metadata": {},
   "source": [
    "## 1.1 Jensen-Shannon"
   ]
  },
  {
   "cell_type": "code",
   "execution_count": 31,
   "metadata": {
    "ExecuteTime": {
     "end_time": "2019-04-15T20:37:13.920871Z",
     "start_time": "2019-04-15T20:37:13.890379Z"
    },
    "collapsed": true
   },
   "outputs": [],
   "source": [
    "js = estimators.JensenShannon(input_dimension=1)"
   ]
  },
  {
   "cell_type": "code",
   "execution_count": 32,
   "metadata": {
    "ExecuteTime": {
     "end_time": "2019-04-15T20:37:14.245196Z",
     "start_time": "2019-04-15T20:37:14.217417Z"
    },
    "collapsed": true
   },
   "outputs": [],
   "source": [
    "optimiser = Adam(js.parameters(), lr=.001)"
   ]
  },
  {
   "cell_type": "code",
   "execution_count": 33,
   "metadata": {
    "ExecuteTime": {
     "end_time": "2019-04-15T20:37:19.291816Z",
     "start_time": "2019-04-15T20:37:14.383491Z"
    }
   },
   "outputs": [],
   "source": [
    "losses = []\n",
    "distances = []\n",
    "\n",
    "for f, g in generate(2000):\n",
    "    \n",
    "    js.zero_grad()\n",
    "    \n",
    "    loss = js.loss(f, g)\n",
    "    loss.backward()\n",
    "    \n",
    "    optimiser.step()\n",
    "    \n",
    "    losses.append(loss.item())\n",
    "    distances.append(js.distance(f, g).item())\n",
    "    \n",
    "losses = np.array(losses)\n",
    "distances = np.array(distances)"
   ]
  },
  {
   "cell_type": "code",
   "execution_count": 34,
   "metadata": {
    "ExecuteTime": {
     "end_time": "2019-04-15T20:37:20.129575Z",
     "start_time": "2019-04-15T20:37:19.294101Z"
    }
   },
   "outputs": [
    {
     "data": {
      "image/png": "[encoded data removed]",
      "text/plain": [
       "<matplotlib.figure.Figure at 0x11355b4e0>"
      ]
     },
     "metadata": {
      "image/png": {
       "height": 249,
       "width": 370
      }
     },
     "output_type": "display_data"
    }
   ],
   "source": [
    "plt.figure()\n",
    "plt.plot(losses, label='loss')\n",
    "plt.plot(distances, label='distance')\n",
    "plt.legend()\n",
    "plt.show()"
   ]
  },
  {
   "cell_type": "markdown",
   "metadata": {},
   "source": [
    "## 1.2 Wasserstein"
   ]
  },
  {
   "cell_type": "code",
   "execution_count": 35,
   "metadata": {
    "ExecuteTime": {
     "end_time": "2019-04-15T21:35:12.143186Z",
     "start_time": "2019-04-15T21:35:12.096452Z"
    },
    "collapsed": true
   },
   "outputs": [],
   "source": [
    "wasserstein = estimators.Wasserstein(input_dimension=1, hidden_dimension=20, kappa=10)"
   ]
  },
  {
   "cell_type": "code",
   "execution_count": 36,
   "metadata": {
    "ExecuteTime": {
     "end_time": "2019-04-15T21:35:12.591027Z",
     "start_time": "2019-04-15T21:35:12.557969Z"
    },
    "collapsed": true
   },
   "outputs": [],
   "source": [
    "optimiser = Adam(wasserstein.parameters(), lr=.001)"
   ]
  },
  {
   "cell_type": "code",
   "execution_count": 37,
   "metadata": {
    "ExecuteTime": {
     "end_time": "2019-04-15T21:36:00.917277Z",
     "start_time": "2019-04-15T21:35:49.328333Z"
    },
    "collapsed": true
   },
   "outputs": [],
   "source": [
    "losses = []\n",
    "distances = []\n",
    "\n",
    "for f, g in generate(2000):\n",
    "    \n",
    "    wasserstein.zero_grad()\n",
    "    \n",
    "    loss = wasserstein.loss(f, g, penalised=True)\n",
    "    loss.backward()\n",
    "    \n",
    "    optimiser.step()\n",
    "    \n",
    "    losses.append(loss.item())\n",
    "    distances.append(wasserstein.distance(f, g).item())\n",
    "    \n",
    "losses = np.array(losses)\n",
    "distances = np.array(distances)"
   ]
  },
  {
   "cell_type": "code",
   "execution_count": 42,
   "metadata": {
    "ExecuteTime": {
     "end_time": "2019-04-15T21:36:01.199661Z",
     "start_time": "2019-04-15T21:36:00.919450Z"
    }
   },
   "outputs": [
    {
     "data": {
      "image/png": "[encoded data removed]",
      "text/plain": [
       "<matplotlib.figure.Figure at 0x10fd0b0f0>"
      ]
     },
     "metadata": {
      "image/png": {
       "height": 249,
       "width": 362
      }
     },
     "output_type": "display_data"
    }
   ],
   "source": [
    "plt.figure()\n",
    "plt.plot(losses, label='loss')\n",
    "plt.plot(distances, label='distance')\n",
    "plt.legend()\n",
    "plt.show()"
   ]
  },
  {
   "cell_type": "markdown",
   "metadata": {},
   "source": [
    "# 1.3 Estimating distances"
   ]
  },
  {
   "cell_type": "markdown",
   "metadata": {},
   "source": [
    "## Jensen-Shannon"
   ]
  },
  {
   "cell_type": "code",
   "execution_count": 8,
   "metadata": {
    "ExecuteTime": {
     "end_time": "2019-04-17T01:39:48.550904Z",
     "start_time": "2019-04-17T01:39:48.518342Z"
    },
    "collapsed": true
   },
   "outputs": [],
   "source": [
    "phis = np.linspace(-1, 1, 21)"
   ]
  },
  {
   "cell_type": "code",
   "execution_count": 9,
   "metadata": {
    "ExecuteTime": {
     "end_time": "2019-04-17T01:39:49.128225Z",
     "start_time": "2019-04-17T01:39:49.096440Z"
    }
   },
   "outputs": [
    {
     "data": {
      "text/plain": [
       "array([-1. , -0.9, -0.8, -0.7, -0.6, -0.5, -0.4, -0.3, -0.2, -0.1,  0. ,\n",
       "        0.1,  0.2,  0.3,  0.4,  0.5,  0.6,  0.7,  0.8,  0.9,  1. ])"
      ]
     },
     "execution_count": 9,
     "metadata": {},
     "output_type": "execute_result"
    }
   ],
   "source": [
    "phis"
   ]
  },
  {
   "cell_type": "code",
   "execution_count": 10,
   "metadata": {
    "ExecuteTime": {
     "end_time": "2019-04-17T01:39:49.724385Z",
     "start_time": "2019-04-17T01:39:49.690036Z"
    },
    "collapsed": true
   },
   "outputs": [],
   "source": [
    "def estimate_jsd(phi, steps=100):\n",
    "    js = estimators.JensenShannon(input_dimension=2)\n",
    "    optimiser = Adam(js.parameters(), lr=.001)\n",
    "    \n",
    "    for step in range(steps):\n",
    "        \n",
    "        f = torch.tensor(next(samplers.distribution1(0)), dtype=torch.float)\n",
    "        g = torch.tensor(next(samplers.distribution1(phi)), dtype=torch.float)\n",
    "    \n",
    "        js.zero_grad()\n",
    "\n",
    "        loss = js.loss(f, g)\n",
    "        loss.backward()\n",
    "\n",
    "        optimiser.step()\n",
    "        \n",
    "    f = torch.tensor(next(samplers.distribution1(0)), dtype=torch.float)\n",
    "    g = torch.tensor(next(samplers.distribution1(phi)), dtype=torch.float)\n",
    "    \n",
    "    return js.distance(f, g).item()"
   ]
  },
  {
   "cell_type": "code",
   "execution_count": 11,
   "metadata": {
    "ExecuteTime": {
     "end_time": "2019-04-17T01:39:52.031017Z",
     "start_time": "2019-04-17T01:39:50.900340Z"
    }
   },
   "outputs": [
    {
     "data": {
      "text/plain": [
       "0.6919518113136292"
      ]
     },
     "execution_count": 11,
     "metadata": {},
     "output_type": "execute_result"
    }
   ],
   "source": [
    "estimate_jsd(.9, steps=500)"
   ]
  },
  {
   "cell_type": "code",
   "execution_count": 16,
   "metadata": {
    "ExecuteTime": {
     "end_time": "2019-04-17T01:41:37.066591Z",
     "start_time": "2019-04-17T01:41:14.475662Z"
    },
    "collapsed": true
   },
   "outputs": [],
   "source": [
    "results = np.array([estimate_jsd(phi, steps=500) for phi in phis])"
   ]
  },
  {
   "cell_type": "code",
   "execution_count": 18,
   "metadata": {
    "ExecuteTime": {
     "end_time": "2019-04-17T01:41:45.940836Z",
     "start_time": "2019-04-17T01:41:45.568398Z"
    }
   },
   "outputs": [
    {
     "data": {
      "image/png": "[encoded data removed]",
      "text/plain": [
       "<Figure size 432x288 with 1 Axes>"
      ]
     },
     "metadata": {
      "image/png": {
       "height": 263,
       "width": 384
      },
      "needs_background": "light"
     },
     "output_type": "display_data"
    }
   ],
   "source": [
    "plt.scatter(phis, results)\n",
    "plt.xlabel(r'$\\phi$')\n",
    "plt.ylabel('Distance')\n",
    "plt.savefig('output/jsd.pdf', bbox_inches='tight')"
   ]
  },
  {
   "cell_type": "markdown",
   "metadata": {},
   "source": [
    "## Wasserstein"
   ]
  },
  {
   "cell_type": "code",
   "execution_count": 19,
   "metadata": {
    "ExecuteTime": {
     "end_time": "2019-04-17T01:41:53.778510Z",
     "start_time": "2019-04-17T01:41:53.749602Z"
    },
    "collapsed": true
   },
   "outputs": [],
   "source": [
    "phis = np.linspace(-1, 1, 21)"
   ]
  },
  {
   "cell_type": "code",
   "execution_count": 20,
   "metadata": {
    "ExecuteTime": {
     "end_time": "2019-04-17T01:41:54.172790Z",
     "start_time": "2019-04-17T01:41:54.145726Z"
    }
   },
   "outputs": [
    {
     "data": {
      "text/plain": [
       "array([-1. , -0.9, -0.8, -0.7, -0.6, -0.5, -0.4, -0.3, -0.2, -0.1,  0. ,\n",
       "        0.1,  0.2,  0.3,  0.4,  0.5,  0.6,  0.7,  0.8,  0.9,  1. ])"
      ]
     },
     "execution_count": 20,
     "metadata": {},
     "output_type": "execute_result"
    }
   ],
   "source": [
    "phis"
   ]
  },
  {
   "cell_type": "code",
   "execution_count": 21,
   "metadata": {
    "ExecuteTime": {
     "end_time": "2019-04-17T01:41:54.674251Z",
     "start_time": "2019-04-17T01:41:54.642614Z"
    },
    "collapsed": true
   },
   "outputs": [],
   "source": [
    "def estimate_wasserstein(phi, steps=100):\n",
    "    wasserstein = estimators.Wasserstein(input_dimension=2)\n",
    "    optimiser = Adam(wasserstein.parameters(), lr=.001)\n",
    "    \n",
    "    for step in range(steps):\n",
    "        \n",
    "        f = torch.tensor(next(samplers.distribution1(0)), dtype=torch.float)\n",
    "        g = torch.tensor(next(samplers.distribution1(phi)), dtype=torch.float)\n",
    "    \n",
    "        wasserstein.zero_grad()\n",
    "\n",
    "        loss = wasserstein.loss(f, g)\n",
    "        loss.backward()\n",
    "\n",
    "        optimiser.step()\n",
    "        \n",
    "    f = torch.tensor(next(samplers.distribution1(0)), dtype=torch.float)\n",
    "    g = torch.tensor(next(samplers.distribution1(phi)), dtype=torch.float)\n",
    "    \n",
    "    return wasserstein.distance(f, g).item()"
   ]
  },
  {
   "cell_type": "code",
   "execution_count": 22,
   "metadata": {
    "ExecuteTime": {
     "end_time": "2019-04-17T01:41:57.528852Z",
     "start_time": "2019-04-17T01:41:56.042820Z"
    }
   },
   "outputs": [
    {
     "data": {
      "text/plain": [
       "0.6767780780792236"
      ]
     },
     "execution_count": 22,
     "metadata": {},
     "output_type": "execute_result"
    }
   ],
   "source": [
    "estimate_wasserstein(.9, steps=500)"
   ]
  },
  {
   "cell_type": "code",
   "execution_count": 23,
   "metadata": {
    "ExecuteTime": {
     "end_time": "2019-04-17T01:42:48.126395Z",
     "start_time": "2019-04-17T01:41:58.547622Z"
    },
    "collapsed": true
   },
   "outputs": [],
   "source": [
    "results = np.array([estimate_wasserstein(phi, steps=800) for phi in phis])"
   ]
  },
  {
   "cell_type": "code",
   "execution_count": 25,
   "metadata": {
    "ExecuteTime": {
     "end_time": "2019-04-17T01:42:52.479826Z",
     "start_time": "2019-04-17T01:42:52.084846Z"
    }
   },
   "outputs": [
    {
     "data": {
      "image/png": "[encoded data removed]",
      "text/plain": [
       "<Figure size 432x288 with 1 Axes>"
      ]
     },
     "metadata": {
      "image/png": {
       "height": 263,
       "width": 384
      },
      "needs_background": "light"
     },
     "output_type": "display_data"
    }
   ],
   "source": [
    "plt.scatter(phis, results)\n",
    "plt.xlabel(r'$\\phi$')\n",
    "plt.ylabel('Distance')\n",
    "plt.savefig('output/wd.pdf', bbox_inches='tight')"
   ]
  },
  {
   "cell_type": "code",
   "execution_count": null,
   "metadata": {
    "collapsed": true
   },
   "outputs": [],
   "source": []
  }
 ],
 "metadata": {
  "kernelspec": {
   "display_name": "Python 3",
   "language": "python",
   "name": "python3"
  },
  "language_info": {
   "codemirror_mode": {
    "name": "ipython",
    "version": 3
   },
   "file_extension": ".py",
   "mimetype": "text/x-python",
   "name": "python",
   "nbconvert_exporter": "python",
   "pygments_lexer": "ipython3",
   "version": "3.7.1"
  },
  "toc": {
   "base_numbering": 1,
   "nav_menu": {},
   "number_sections": true,
   "sideBar": true,
   "skip_h1_title": false,
   "title_cell": "Table of Contents",
   "title_sidebar": "Contents",
   "toc_cell": false,
   "toc_position": {},
   "toc_section_display": true,
   "toc_window_display": false
  }
 },
 "nbformat": 4,
 "nbformat_minor": 2
}
